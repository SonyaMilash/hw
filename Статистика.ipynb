{
 "cells": [
  {
   "cell_type": "markdown",
   "id": "d3928505",
   "metadata": {
    "toc": true
   },
   "source": [
    "<h1>Table of Contents<span class=\"tocSkip\"></span></h1>\n",
    "<div class=\"toc\"><ul class=\"toc-item\"><li><span><a href=\"#Часть-1:-Много-гипотез\" data-toc-modified-id=\"Часть-1:-Много-гипотез-1\">Часть 1: Много гипотез</a></span><ul class=\"toc-item\"><li><span><a href=\"#Мудрость\" data-toc-modified-id=\"Мудрость-1.1\">Мудрость</a></span></li><li><span><a href=\"#Тайлер\" data-toc-modified-id=\"Тайлер-1.2\">Тайлер</a></span></li><li><span><a href=\"#Рейтинги-президентов\" data-toc-modified-id=\"Рейтинги-президентов-1.3\">Рейтинги президентов</a></span></li><li><span><a href=\"#Сон\" data-toc-modified-id=\"Сон-1.4\">Сон</a></span></li><li><span><a href=\"#Say-my-name\" data-toc-modified-id=\"Say-my-name-1.5\">Say my name</a></span></li><li><span><a href=\"#Матан\" data-toc-modified-id=\"Матан-1.6\">Матан</a></span></li><li><span><a href=\"#Бутерброд\" data-toc-modified-id=\"Бутерброд-1.7\">Бутерброд</a></span></li></ul></li><li><span><a href=\"#Часть-2:-Продолжаем-проверять-гипотезы\" data-toc-modified-id=\"Часть-2:-Продолжаем-проверять-гипотезы-2\">Часть 2: Продолжаем проверять гипотезы</a></span><ul class=\"toc-item\"><li><span><a href=\"#Однородная-игра\" data-toc-modified-id=\"Однородная-игра-2.1\">Однородная игра</a></span></li><li><span><a href=\"#Мыши-и-зеркало\" data-toc-modified-id=\"Мыши-и-зеркало-2.2\">Мыши и зеркало</a></span></li><li><span><a href=\"#Энергетик\" data-toc-modified-id=\"Энергетик-2.3\">Энергетик</a></span></li><li><span><a href=\"#Бомбардировки\" data-toc-modified-id=\"Бомбардировки-2.4\">Бомбардировки</a></span></li></ul></li><li><span><a href=\"#Еще-больше-гипотез\" data-toc-modified-id=\"Еще-больше-гипотез-3\">Еще больше гипотез</a></span><ul class=\"toc-item\"><li><span><a href=\"#Анорексия\" data-toc-modified-id=\"Анорексия-3.1\">Анорексия</a></span></li><li><span><a href=\"#Метилфенидат\" data-toc-modified-id=\"Метилфенидат-3.2\">Метилфенидат</a></span></li><li><span><a href=\"#Сиэтл\" data-toc-modified-id=\"Сиэтл-3.3\">Сиэтл</a></span></li><li><span><a href=\"#Расход-топлива\" data-toc-modified-id=\"Расход-топлива-3.4\">Расход топлива</a></span><ul class=\"toc-item\"><li><span><a href=\"#vs,-mpg\" data-toc-modified-id=\"vs,-mpg-3.4.1\">vs, mpg</a></span></li><li><span><a href=\"#am,-mpg\" data-toc-modified-id=\"am,-mpg-3.4.2\">am, mpg</a></span></li><li><span><a href=\"#vs,-am\" data-toc-modified-id=\"vs,-am-3.4.3\">vs, am</a></span></li></ul></li></ul></li></ul></div>"
   ]
  },
  {
   "cell_type": "markdown",
   "id": "282e651b",
   "metadata": {
    "id": "lQH8gmSWGbDC"
   },
   "source": [
    "# Часть 1: Много гипотез"
   ]
  },
  {
   "cell_type": "markdown",
   "id": "8bf9743a",
   "metadata": {
    "id": "oelts-ZPPCpd"
   },
   "source": [
    "В этом домашнем задании нужно проверить много-много гипотез\n",
    "\n",
    "Каждая дает по 5 баллов\n",
    "\n",
    "**Часть 1**\n",
    "\n",
    "| Задание              | Баллы |\n",
    "|----------------------|-------|\n",
    "| Мудрость             |     5 |\n",
    "| Тайлер               |     5 |\n",
    "| Рейтинги президентов |     5 |\n",
    "| Сон                  |     5 |\n",
    "| Say my name          |     5 |\n",
    "| Матан                |     5 |\n",
    "| Бутерброд            |     5 |\n",
    "| Всего            |     35 |\n",
    "\n",
    "\n",
    "**Часть 2**\n",
    "\n",
    "| Задание            | Датасет         | Баллы |\n",
    "|--------------------|-----------------|-------|\n",
    "| Однородная игра    | killer_time     |     5 |\n",
    "| Мыши и зеркало     | mouses_mirror   |     5 |\n",
    "| Энергетик          | energy drink    |     5 |\n",
    "| Бомбардировки      | london          |     5 |\n",
    "| Анорексия          | anorexia        |     5 |\n",
    "| Метилфенидат       | methylphenidate |     5 |\n",
    "| Сиэтл              | seattle         |     5 |\n",
    "| Расход топлива - 1 | mtcars: vs mpg  |     5 |\n",
    "| Расход топлива - 2 | mtcars: am mpg  |     5 |\n",
    "| Расход топлива - 3 | mtcars: am vs   |     5 |\n",
    "|                    | Всего           |    50 |\n"
   ]
  },
  {
   "cell_type": "code",
   "execution_count": null,
   "id": "007bd95a",
   "metadata": {
    "executionInfo": {
     "elapsed": 300,
     "status": "ok",
     "timestamp": 1659293578747,
     "user": {
      "displayName": "Ilya A",
      "userId": "17148912465935982955"
     },
     "user_tz": -180
    },
    "id": "v8VHlKCHGbDH"
   },
   "outputs": [],
   "source": [
    "import numpy as np\n",
    "import pandas as pd\n",
    "\n",
    "from scipy import stats\n",
    "from scipy import stats as sts\n",
    "\n",
    "import seaborn as sns\n",
    "import matplotlib.pyplot as plt\n",
    "\n",
    "plt.style.use('ggplot')\n",
    "\n",
    "# это на всякий случай для маков, чтобы скачался датасет\n",
    "import ssl\n",
    "ssl._create_default_https_context = ssl._create_unverified_context\n",
    "\n",
    "# тут лежат все датасеты\n",
    "ROOT = 'https://raw.githubusercontent.com/ilyaaaaaaaa/datasets_for_ds/main/data/'\n",
    "# ROOT = '../data/'\n"
   ]
  },
  {
   "cell_type": "markdown",
   "id": "7b29fba4",
   "metadata": {
    "id": "N61MUFtnGbDI"
   },
   "source": [
    "## Мудрость\n",
    "\n",
    "> Помните, что для человека звук его имени является самым сладким и самым важным звуком человеческой речи. (Дейл Карнеги)\n",
    "\n",
    "Доверяй, но проверяй. Решим задачку по психологии! Все цитаты в пабликах вконтакте делятся на два вида: мудрые и недостаточно мудрые. Если цитата мудрая, то её можно лайкнуть. Поговаривают, что если в цитате есть личные местоимения, то пользователь автоматически сопоставляет себя автору этой цитаты и вероятность того, что она будет лайкнута, повышается. Например, цитату \n",
    "\n",
    "> Можно простить человеку все, кроме отсутствия. (Экзюпери) \n",
    "\n",
    "мне не очень хотелось бы лайкать. А вот цитата \n",
    "\n",
    "> Мне наплевать, что вы обо мне думаете. Я о вас вообще не думаю. (Булгаков) \n",
    "\n",
    "совершенно другое дело. \n",
    "\n",
    "В табличке `df_vk_wise` лежат данные о мудрых цитатах из [мудрого паблика.](https://vk.com/ooioioioioioo) В колонке `I` находится переменная, которая принимает значение `True`, когда в тексте цитаты было личное местоимение \"Я\".\n",
    "\n",
    "Срежем первые $50$ постов, так как под ними количество репостов и лайков ещё окончательно не выставлено, и будем работать с остатками. "
   ]
  },
  {
   "cell_type": "code",
   "execution_count": null,
   "id": "f2ee53b6",
   "metadata": {
    "colab": {
     "base_uri": "https://localhost:8080/",
     "height": 206
    },
    "executionInfo": {
     "elapsed": 312,
     "status": "ok",
     "timestamp": 1659293581272,
     "user": {
      "displayName": "Ilya A",
      "userId": "17148912465935982955"
     },
     "user_tz": -180
    },
    "id": "war-ReUpGbDK",
    "outputId": "d6ae8459-a8ec-45ed-fea5-68fd9eee5a0c"
   },
   "outputs": [],
   "source": [
    "df = pd.read_csv(ROOT+'df_vk_wise.csv')[50:]\n",
    "df.head()"
   ]
  },
  {
   "cell_type": "markdown",
   "id": "384a3381",
   "metadata": {
    "id": "wXuqQ9ZSGbDK"
   },
   "source": [
    "Постройте гистограмму для числа лайков постов, содержащих личные местоимения и не содержащих. Как думаете, есть ли с распределением лайков какие-то проблемы?"
   ]
  },
  {
   "cell_type": "code",
   "execution_count": null,
   "id": "65f82b07",
   "metadata": {
    "deletable": false,
    "id": "ZDA_1HIWGbDK",
    "nbgrader": {
     "cell_type": "code",
     "checksum": "3959fa2c8afbb37a435b22f39831c1b4",
     "grade": false,
     "grade_id": "cell-5b1acf05ccd983b3",
     "locked": false,
     "schema_version": 3,
     "solution": true,
     "task": false
    }
   },
   "outputs": [],
   "source": [
    "### ╰( ͡° ͜ʖ ͡° )つ▬▬ι═══════  bzzzzzzzzzz\n",
    "# your code below\n",
    "\n",
    "I_true = df.loc[df['I'] == True, 'likes']\n",
    "I_false = df.loc[df['I'] == False, 'likes']\n",
    "\n",
    "sns.histplot(I_true, bins=15, stat='density', color = 'lightskyblue')\n",
    "sns.histplot(I_false,  bins=15, stat='density', color = 'lightcoral')"
   ]
  },
  {
   "cell_type": "markdown",
   "id": "788f3e5a",
   "metadata": {
    "id": "n4N8AsezGbDL"
   },
   "source": [
    "Да, проблемы есть. Это выбросы. Хвосты на гистограммах оказываются очень длинными. Найдите медианы и средние для числа лайков. Сравните их между собой. "
   ]
  },
  {
   "cell_type": "code",
   "execution_count": null,
   "id": "8fd0cc8e",
   "metadata": {
    "deletable": false,
    "id": "fa-zOO27GbDM",
    "nbgrader": {
     "cell_type": "code",
     "checksum": "920d011f18252d1f5ad8a0acbd77af8b",
     "grade": false,
     "grade_id": "cell-84afb85a40373b11",
     "locked": false,
     "schema_version": 3,
     "solution": true,
     "task": false
    }
   },
   "outputs": [],
   "source": [
    "### ╰( ͡° ͜ʖ ͡° )つ▬▬ι═══════  bzzzzzzzzzz\n",
    "# your code below\n",
    "\n",
    "#медианы\n",
    "I_true_median = I_true.median()\n",
    "I_false_median = I_false.median()\n",
    "\n",
    "#средние\n",
    "I_true_mean = I_true.mean()\n",
    "I_false_mean = I_false.mean()\n",
    "\n",
    "print(I_true_median, I_false_median,I_true_mean, I_false_mean)\n",
    "\n",
    "#В среднем число лайков для цитат с Я немного больше, как и медиана"
   ]
  },
  {
   "cell_type": "markdown",
   "id": "1f6a3d5e",
   "metadata": {
    "id": "r5GY3AfUGbDN"
   },
   "source": [
    "Проверьте гипотезу о равенстве среднего числа лайков. Используйте для этого $z$-тест, основанный на ЦПТ. Дисперсию расчитывайте по выборке, используя несмещённую оценку `(ddof=1)`. Запишите наблюдаемое значение статистики в переменную `z_obs`. "
   ]
  },
  {
   "cell_type": "code",
   "execution_count": null,
   "id": "47fe8565",
   "metadata": {
    "deletable": false,
    "id": "5H0qKAPQGbDN",
    "nbgrader": {
     "cell_type": "code",
     "checksum": "7f93ee1688388c6a8b8449e05da2fe98",
     "grade": false,
     "grade_id": "cell-1acfb89f07181a0a",
     "locked": false,
     "schema_version": 3,
     "solution": true,
     "task": false
    }
   },
   "outputs": [],
   "source": [
    "### ╰( ͡° ͜ʖ ͡° )つ▬▬ι═══════  bzzzzzzzzzz\n",
    "# your code below\n",
    "\n",
    "alpha = 0.05 \n",
    "\n",
    "n_I_true = I_true.size\n",
    "n_I_false = I_false.size\n",
    "std = np.sqrt(I_true.var(ddof=1)/n_I_true + I_false.var(ddof=1)/n_I_false)\n",
    "z_obs = (I_true_mean - I_false_mean) / std"
   ]
  },
  {
   "cell_type": "markdown",
   "id": "f281d536",
   "metadata": {
    "id": "vbg7UO3bGbDO"
   },
   "source": [
    "Найдите критическое значение статистики. Сравните его с наблюдаемым. Рассчитайте p-value для ситуации с двусторонней альтернативой. Сделайте вывод о выдвинутой гипотезе. Критическое значение статистики запишите в переменную `z_crit`, а p-значение в переменную `pval`. "
   ]
  },
  {
   "cell_type": "code",
   "execution_count": null,
   "id": "e18de0da",
   "metadata": {
    "deletable": false,
    "id": "05R0EttDGbDO",
    "nbgrader": {
     "cell_type": "code",
     "checksum": "46bd437560b80a2b837cc3e7d7415f62",
     "grade": false,
     "grade_id": "cell-9ebff976022e649a",
     "locked": false,
     "schema_version": 3,
     "solution": true,
     "task": false
    }
   },
   "outputs": [],
   "source": [
    "### ╰( ͡° ͜ʖ ͡° )つ▬▬ι═══════  bzzzzzzzzzz\n",
    "# your code below\n",
    "z_crit = stats.norm.ppf(1 - alpha)\n",
    "pval = 2*(1-stats.norm.cdf(np.abs(z_obs)))\n",
    "\n",
    "print(f\"Наблюдаемое значение: {z_obs:.7}\")\n",
    "print(f\"Критическое значение: {z_crit:.7}\")\n",
    "print(f\"P-значение: {pval:.3}\") \n"
   ]
  },
  {
   "cell_type": "code",
   "execution_count": null,
   "id": "337c0d92",
   "metadata": {
    "id": "8wh9Bxr4Hq2_"
   },
   "outputs": [],
   "source": [
    "# проверка того, что задание решено верно\n",
    "assert np.abs(z_obs - 2.6644610922505323) < 1e-5"
   ]
  },
  {
   "cell_type": "markdown",
   "id": "37f4c0e5",
   "metadata": {
    "id": "s65r_aiUGbDP"
   },
   "source": [
    "Можно заметить, что у распределения числа репостов длинные хвосты. В данных есть выбросы, которые завышают среднее значение. Если выбросы сильные, то ЦПТ может ломаться. Из-за этого имеет смысл в данном случае проверять гипотезу о равенстве медиан, которые устойчивы к выбросам.\n",
    "\n",
    "-------------------"
   ]
  },
  {
   "cell_type": "markdown",
   "id": "bcfbd492",
   "metadata": {
    "id": "9F9v3lAyGbDP"
   },
   "source": [
    "## Тайлер\n",
    "\n",
    "__Люди всё время меня спрашивают, знаю ли я Тайлера Дёрдена?__ Да, знаю. Он делает лучшее мыло в стране. \n",
    "\n",
    "__а)__ Тайлер считает партию изделий хорошей, если дисперсия размера не превышает $25$ грамм$^2$. Пока Тайлер летел в самолёте, он измерил $10$ кусков мыла. Выборочная дисперсия оказалась равна $27$ грамм$^2$. Можно ли продавать эту партию или её надо списать в брак? \n",
    "\n",
    "При проверке этой гипотезы найдите $p$-значение и запишите его в переменную `pval1`. Наблюдаемое значение статистики запишите в переменную `chi_obs`. Используйте уровень значимости $1\\%$."
   ]
  },
  {
   "cell_type": "code",
   "execution_count": null,
   "id": "150e3076",
   "metadata": {
    "deletable": false,
    "id": "-ZZE8QVVGbDR",
    "nbgrader": {
     "cell_type": "code",
     "checksum": "9b8826d6e3062cc4de98fdd59e1d6ca9",
     "grade": false,
     "grade_id": "cell-2e30e820f90148d5",
     "locked": false,
     "schema_version": 3,
     "solution": true,
     "task": false
    }
   },
   "outputs": [],
   "source": [
    "### ╰( ͡° ͜ʖ ͡° )つ▬▬ι═══════  bzzzzzzzzzz\n",
    "# your code below\n",
    "\n",
    "alpha = 0.01\n",
    "chi_crit = stats.chi2(n-1).ppf(1-alpha)\n",
    "\n",
    "sigma2_null = 25\n",
    "sigma2 = 27\n",
    "n = 10\n",
    "chi_obs = (n-1)*sigma2/sigma2_null \n",
    "\n",
    "pval1 = 1-stats.chi(n-1).cdf(chi_obs)\n",
    "\n",
    "print(f'Наблюдаемое значение {chi_obs:.5}')\n",
    "print(f\"Критическое значение: {chi_crit:.7}\")\n",
    "print(f\"P-значение: {pval1:.3}\")\n",
    "\n",
    "#pval1 меньше уровня значимости - гипотеза о том, что можно продавать, отвергается"
   ]
  },
  {
   "cell_type": "markdown",
   "id": "a299bf27",
   "metadata": {
    "id": "4pOvXASjGbDR"
   },
   "source": [
    "__б)__ Для того, чтобы уменьшить количество бракованного мыла, Тайлер собирается внедрить новую технологию производства. Тайлер произвёл по старой технологии $100$ кусков мыла. Стандартное отклонение этой партии составило $6$ грамм. Для  новой технологии стандартное отклонение, посчитанное по $100$ кускам мыла, составило $5$ грамм. Правда ли, что новая технология обладает меньшей дисперсией и её нужно внедрить на производстве?\n",
    "\n",
    "При проверке этой гипотезы найдите $p$-значение и запишите его в переменную `pval2`. Используйте уровень значимости $1\\%$."
   ]
  },
  {
   "cell_type": "code",
   "execution_count": null,
   "id": "302b5c42",
   "metadata": {
    "deletable": false,
    "id": "YJkHbgR9GbDR",
    "nbgrader": {
     "cell_type": "code",
     "checksum": "72a130a7ef8f3bae0797aa938d6cfe08",
     "grade": false,
     "grade_id": "cell-88a96be4941d7e62",
     "locked": false,
     "schema_version": 3,
     "solution": true,
     "task": false
    }
   },
   "outputs": [],
   "source": [
    "### ╰( ͡° ͜ʖ ͡° )つ▬▬ι═══════  bzzzzzzzzzz\n",
    "# your code below\n",
    "\n",
    "n = 100\n",
    "alpha = 0.01\n",
    "std_old = 6\n",
    "std_new = 5\n",
    "\n",
    "F_obs = std_old**2/std_new**2\n",
    "\n",
    "f_rv = stats.f(n - 1, n- 1) \n",
    "F_crit = f_rv.ppf(1 - alpha/2)  \n",
    "\n",
    "pval2 = 2*(1-f_rv.cdf(F_obs))\n",
    "print(f'Наблюдаемое значение {F_obs:.5}')\n",
    "print(f\"Критическое значение: {F_crit:.7}\")\n",
    "print(f\"P-значение: {pval2:.3}\")\n",
    "#pval2 больше уровня значимости - нулевая гипотеза не отвергается"
   ]
  },
  {
   "cell_type": "code",
   "execution_count": null,
   "id": "1dc8619f",
   "metadata": {
    "id": "rlB97qGJHTkb"
   },
   "outputs": [],
   "source": [
    "# проверка того, что задание решено верно\n",
    "assert np.abs(chi_obs - 9.72) < 1e-1\n",
    "assert np.abs(F_obs - 1.44) < 1e-1\n"
   ]
  },
  {
   "cell_type": "markdown",
   "id": "c8c8ba35",
   "metadata": {
    "id": "rswUMFMDGbDS"
   },
   "source": [
    "## Рейтинги президентов\n",
    "\n",
    "В таблице `presidents.csv` представлены рейтинги различных президентов США. Социальные опросы проводились раз в квартал. Опрашивалась случайная выборка граждан. У каждого спрашивалось одобряет ли он деятельность президента.\n",
    "\n",
    "__Люди всё время меня спрашивают, знаю ли я Никсона.__ Да, Ричард Никсон был президентом США с 20 января 1969 года по 9 августа 1974 года. 17 июня 1972 года произошёл Уотергейтский скандал. Давайте проанализируем, что при этом произошло с его рейтингом."
   ]
  },
  {
   "cell_type": "code",
   "execution_count": null,
   "id": "ae21fce0",
   "metadata": {
    "colab": {
     "base_uri": "https://localhost:8080/",
     "height": 206
    },
    "executionInfo": {
     "elapsed": 316,
     "status": "ok",
     "timestamp": 1659293588917,
     "user": {
      "displayName": "Ilya A",
      "userId": "17148912465935982955"
     },
     "user_tz": -180
    },
    "id": "NVdYFIsqGbDS",
    "outputId": "affa342e-235d-4990-a9fc-fbf63170c781"
   },
   "outputs": [],
   "source": [
    "df = pd.read_csv(ROOT+'presidents.csv')\n",
    "df.head()"
   ]
  },
  {
   "cell_type": "markdown",
   "id": "6e8bc61d",
   "metadata": {
    "id": "_0ArNzXdGbDS"
   },
   "source": [
    "Чтобы привести таблицу к удобному виду используйте функцию `pd.melt`. Вытащите из таблички рейтинг Никсона с 1 квартала 1969 года по 2 квартал 1972 года (включая его). Запишите эти данные в переменную `x`. Рейтинг с 3 квартала 1972 года по 2 квартал 1974 года поместите в переменную `y`. Пропуски в данных удалите из выборки."
   ]
  },
  {
   "cell_type": "code",
   "execution_count": null,
   "id": "db4d0067",
   "metadata": {},
   "outputs": [],
   "source": [
    "df_melt = pd.melt(df, id_vars=['year'], value_vars=['Qtr1', 'Qtr2', 'Qtr3', 'Qtr4'],\n",
    "                    var_name='Qtr', value_name='Rating')"
   ]
  },
  {
   "cell_type": "code",
   "execution_count": null,
   "id": "165782cf",
   "metadata": {
    "deletable": false,
    "id": "sLB4mxRRGbDS",
    "nbgrader": {
     "cell_type": "code",
     "checksum": "22ec9a50950897f91ca39c4631a6200c",
     "grade": false,
     "grade_id": "cell-0c35f4bdddbb0029",
     "locked": false,
     "schema_version": 3,
     "solution": true,
     "task": false
    }
   },
   "outputs": [],
   "source": [
    "### ╰( ͡° ͜ʖ ͡° )つ▬▬ι═══════  bzzzzzzzzzz\n",
    "# your code below\n",
    "\n",
    "x = df_melt[df_melt['year'].between(1969, 1972)]['Rating'].dropna()\n",
    "y = df_melt[df_melt['year'].between(1972, 1974)]['Rating'].dropna()\n"
   ]
  },
  {
   "cell_type": "markdown",
   "id": "38eadf6b",
   "metadata": {
    "id": "3u4Vm0F0GbDT"
   },
   "source": [
    "Правда ли, что после скандала средний рейтинг Никсона рухнул? Предполагайте, что рейтинг распределён нормально, а также, что дисперсия рейтинга не изменилась из-за скандала. Наблюдаемое значение статистики запишите в переменную `obs`, в переменную `pval` запишите $p$-значение."
   ]
  },
  {
   "cell_type": "code",
   "execution_count": null,
   "id": "98763136",
   "metadata": {
    "deletable": false,
    "id": "aOtIUd2EGbDT",
    "nbgrader": {
     "cell_type": "code",
     "checksum": "2472ad8779c6b2e9af75ad034a8f98ae",
     "grade": false,
     "grade_id": "cell-468606ed00795265",
     "locked": false,
     "schema_version": 3,
     "solution": true,
     "task": false
    }
   },
   "outputs": [],
   "source": [
    "### ╰( ͡° ͜ʖ ͡° )つ▬▬ι═══════  bzzzzzzzzzz\n",
    "# your code below\n",
    "\n",
    "#H0 - не изменился\n",
    "#H1 - рухнул\n",
    "alpha = 0.05 \n",
    "s2 = ((x.size - 1)*x.var() + (y.size - 1)*y.var())/(x.size + y.size - 2)\n",
    "diff_sd = np.sqrt(s2/x.size + s2/y.size)\n",
    "obs = (x.mean() - y.mean())/diff_sd\n",
    "t_crit = stats.t(df = x.size + y.size - 2).ppf(1 - alpha)\n",
    "\n",
    "print(f'Наблюдаемое значение {obs:.3} больше критического {t_crit:.3} => нулевая гипотеза отвергается')"
   ]
  },
  {
   "cell_type": "code",
   "execution_count": null,
   "id": "5c6c250a",
   "metadata": {},
   "outputs": [],
   "source": [
    "from statsmodels.stats.weightstats import ttest_ind\n",
    "\n",
    "t_obs, p_val, _ = ttest_ind(x, y, value=0, alternative='larger')\n",
    "\n",
    "print(f\"Наблюдаемое значение: {t_obs:.3}\") \n",
    "print(f\"P-значение: {p_val:.3}\") \n",
    "#pval меньше уровня значимости -> H0 отвергается -> рейтинг рухнул"
   ]
  },
  {
   "cell_type": "code",
   "execution_count": null,
   "id": "0c8171a3",
   "metadata": {
    "id": "HdDiyn1_HorM"
   },
   "outputs": [],
   "source": [
    "# проверка того, что задание решено верно\n",
    "assert np.abs(obs - 3.5640741313229793) < 1e-5\n"
   ]
  },
  {
   "cell_type": "markdown",
   "id": "2a7f9a51",
   "metadata": {
    "id": "SfmNR7ZDGbDT"
   },
   "source": [
    "Снова президентом Никсон станет в $3000$ году. \n",
    "\n",
    "![](https://vignette.wikia.nocookie.net/futurama/images/2/2f/Richard_M._Nixon%27s_head.jpg/revision/latest/scale-to-width-down/250?cb=20131123190522&path-prefix=ru)"
   ]
  },
  {
   "cell_type": "markdown",
   "id": "dd8f384c",
   "metadata": {
    "id": "79MR-7yzGbDT"
   },
   "source": [
    "## Сон\n",
    "\n",
    "Проводится эксперимент о пользе нового снотворного. Для его проведения используется группа из $10$ студентов. В первый день каждый из них ложится спать. На утро измеряется, сколько он проспал. Из результата вычитают $8$ (нормальное число часов сна). На второй день каждому дают таблетку. Утром снова измеряют сколько человек проспал, и вычитают $8$. Результаты эксперимента записаны в табличку `sleep.csv`."
   ]
  },
  {
   "cell_type": "code",
   "execution_count": null,
   "id": "60ceff37",
   "metadata": {
    "colab": {
     "base_uri": "https://localhost:8080/",
     "height": 206
    },
    "executionInfo": {
     "elapsed": 393,
     "status": "ok",
     "timestamp": 1659293592702,
     "user": {
      "displayName": "Ilya A",
      "userId": "17148912465935982955"
     },
     "user_tz": -180
    },
    "id": "N-GJLf2BGbDT",
    "outputId": "09269f0e-8f81-4858-9579-62eded1afa24"
   },
   "outputs": [],
   "source": [
    "df = pd.read_csv(ROOT+'sleep.csv')\n",
    "df.head()"
   ]
  },
  {
   "cell_type": "markdown",
   "id": "c9dbb4b0",
   "metadata": {
    "id": "3A0ND7dKGbDT"
   },
   "source": [
    "Правда ли, что сон студентов до приёма снотворного не отличается от нормы (отклонение от 8 часов равно нулю). Проверьте эту гипотезу на $5\\%$ уровне значимости, в переменную `pval1` запишите p-значение. "
   ]
  },
  {
   "cell_type": "code",
   "execution_count": null,
   "id": "32b579e5",
   "metadata": {
    "deletable": false,
    "id": "gjdH45OyGbDT",
    "nbgrader": {
     "cell_type": "code",
     "checksum": "84c67f6747d67cca7633914c28107c96",
     "grade": false,
     "grade_id": "cell-c04ca7c5b2d46f59",
     "locked": false,
     "schema_version": 3,
     "solution": true,
     "task": false
    }
   },
   "outputs": [],
   "source": [
    "### ╰( ͡° ͜ʖ ͡° )つ▬▬ι═══════  bzzzzzzzzzz\n",
    "# your code below\n",
    "alpha = 0.05\n",
    "d = df[df['group'] == 1]['extra']\n",
    "tobs1 = (d.mean()-8)/d.std(ddof=1)/np.sqrt(d.size)\n",
    "pval1 = 2*(stats.t.cdf(-np.abs(tobs1), d.size-1))"
   ]
  },
  {
   "cell_type": "markdown",
   "id": "f37815fd",
   "metadata": {
    "id": "pJVmer_LGbDT"
   },
   "source": [
    "Правда ли, что благодаря таблеткам студенты стали спать больше (односторонняя альтернатива)? Запишите в переменную `pval2` соотвествующее p-значение. "
   ]
  },
  {
   "cell_type": "code",
   "execution_count": null,
   "id": "9986d374",
   "metadata": {
    "deletable": false,
    "id": "HiWQGHvcGbDU",
    "nbgrader": {
     "cell_type": "code",
     "checksum": "5df1edb5b8b18a467151f30e3ad24e05",
     "grade": false,
     "grade_id": "cell-4c7c2e8e8b3c5de8",
     "locked": false,
     "schema_version": 3,
     "solution": true,
     "task": false
    }
   },
   "outputs": [],
   "source": [
    "### ╰( ͡° ͜ʖ ͡° )つ▬▬ι═══════  bzzzzzzzzzz\n",
    "# your code below\n",
    "d1 = df[df['group'] == 2]['extra']\n",
    "tobs2 = stats.ttest_rel(d, d1)[0]"
   ]
  },
  {
   "cell_type": "code",
   "execution_count": null,
   "id": "7479ecf9",
   "metadata": {
    "deletable": false,
    "editable": false,
    "id": "G7euIbDEGbDU",
    "nbgrader": {
     "cell_type": "code",
     "checksum": "72bfc924a2bb01c46b9bf61fddb2620b",
     "grade": true,
     "grade_id": "cell-2167298693b77a31",
     "locked": true,
     "points": 1,
     "schema_version": 3,
     "solution": false,
     "task": false
    },
    "scrolled": true
   },
   "outputs": [],
   "source": [
    "# проверка того, что задание решено верно\n",
    "assert np.abs(tobs1 - 1.325710) < 1e-5\n",
    "assert np.abs(tobs2 - 4.062127) < 1e-5\n"
   ]
  },
  {
   "cell_type": "markdown",
   "id": "ca2e5980",
   "metadata": {
    "id": "oi3xznavGbDU"
   },
   "source": [
    "## Say my name\n",
    "\n",
    "__Люди всё время меня спрашивают, знает ли меня Барсик.__  Многие владельцы кошек уверены, что их питомцы могут понимать достаточно большое количество слов, а также узнавать собственное имя. Однако долгое время никто не пытался доказать это экспериментально. Разобраться с этой проблемой [решили учёные из Токийского университета.](https://nplus1.ru/news/2019/04/04/cat-name?utm_source=obrazovach&utm_medium=social&utm_campaign=yaponskie-uchenye-dokazali--chto-domashnie-k)\n",
    "\n",
    "Было проведено четыре эксперимента с участием домашних кошек и кошек из кошачьих кафе. Учёные использовали метод привыкания-отвыкания (habituation-dishabituation), который часто используется в экспериментах с участием маленьких детей. \n",
    "\n",
    "В соответствии с гипотезой, которая лежит в основе этого метода, определить реакцию на какой-либо стимул можно, представив его после схожих с ним стимулов. К примеру, для того, чтобы выяснить, может ли младенец узнать свое имя, ему представляют несколько слов подряд: с каждым новым словом его реакция снижается, но появление имени должно (в случае, если ребенок действительно узнает свое имя) ее вернуть. Этот же метод применили и к кошкам: реакция кошек на слова характеризовалась поворотом головы, движением ушей, вокализацией, движениями хвоста или перемещениями.\n",
    "\n",
    "В первом эксперименте исследователи проследили за реакцией кошек на собственное имя, произнесенное хозяином, после четырех существительных (16 кошек, живущих дома с двумя другими кошками или меньше). Данные об этом эксперименте находятся в табличке `cats_names.csv`. "
   ]
  },
  {
   "cell_type": "code",
   "execution_count": null,
   "id": "39d72520",
   "metadata": {
    "colab": {
     "base_uri": "https://localhost:8080/",
     "height": 206
    },
    "executionInfo": {
     "elapsed": 363,
     "status": "ok",
     "timestamp": 1659293595610,
     "user": {
      "displayName": "Ilya A",
      "userId": "17148912465935982955"
     },
     "user_tz": -180
    },
    "id": "2YNrKpZWGbDU",
    "outputId": "b3df1143-ee2e-440c-e069-042e2750f40b"
   },
   "outputs": [],
   "source": [
    "df = pd.read_csv(ROOT+'cats_names.csv', sep='\\t')\n",
    "df.head()"
   ]
  },
  {
   "cell_type": "markdown",
   "id": "c22d4eee",
   "metadata": {
    "id": "gb3exuPAGbDU"
   },
   "source": [
    "Будем проверять гипотезу о том, что кошки понимают своё имя с помощью упрощённой процедуры: \n",
    "\n",
    "- Вытащим из таблички все строчки, где экспериментаторы называли $4-$ое существительное. Они помечены в колонке `stimuli` как `Noun 4`. Если в колонке `Total Score` стоит положительное число, будем считать, что кошка среагировала на слово. В вектор `noun4` запишем единицу. В противном случае — ноль. \n",
    "- Вытащим по аналогии информацию о том, откликнулась ли кошка на своё имя (пометка `Test Cat's Name`) в колонке `stimuli`. Запишем её в вектор `name`.\n",
    "- Используем тест о равенстве пропорций для зависимых выборок, чтобы ответить на вопрос \"А правда ли кошка откликается на своё имя?\" В переменную `pval` запишем $p$-значение, полученное при проверке этой гипотезы. "
   ]
  },
  {
   "cell_type": "code",
   "execution_count": null,
   "id": "82c70c3c",
   "metadata": {
    "id": "BkSm1qEcmgZd"
   },
   "outputs": [],
   "source": [
    "### ╰( ͡° ͜ʖ ͡° )つ▬▬ι═══════  bzzzzzzzzzz\n",
    "# your code\n",
    "noun4 = [(1 if total_score > 0 else 0) for total_score in df[df['stimuli'] == 'Noun 4']['Total Score']]\n",
    "name = [(1 if total_score > 0 else 0) for total_score in df[df['stimuli'] == \"Test Cat's Name\"]['Total Score']] \n",
    "pd.crosstab(noun4, name)\n",
    "# здесь удобно создавать вот такую свободную таблицу"
   ]
  },
  {
   "cell_type": "code",
   "execution_count": null,
   "id": "9b1cf03f",
   "metadata": {},
   "outputs": [],
   "source": [
    "n = 16\n",
    "c = 1\n",
    "b = 5\n",
    "z_obs = (b-c)/np.sqrt(b+c - (b-c)**2/n)\n",
    "pval = 2*(1-stats.norm.cdf(z_obs))\n",
    "pval"
   ]
  },
  {
   "cell_type": "code",
   "execution_count": null,
   "id": "0bbe4ed9",
   "metadata": {
    "deletable": false,
    "id": "Nj5kBVOUGbDU",
    "nbgrader": {
     "cell_type": "code",
     "checksum": "c019c2956f7e14de25568795f31f7dcc",
     "grade": false,
     "grade_id": "cell-4ab37a21e0f8a42c",
     "locked": false,
     "schema_version": 3,
     "solution": true,
     "task": false
    }
   },
   "outputs": [],
   "source": []
  },
  {
   "cell_type": "code",
   "execution_count": null,
   "id": "79de9e5d",
   "metadata": {
    "deletable": false,
    "editable": false,
    "id": "BQDVJw9SGbDU",
    "nbgrader": {
     "cell_type": "code",
     "checksum": "017ca952bd4b618680f94b4eb603e091",
     "grade": true,
     "grade_id": "cell-473051ae67ddc9a6",
     "locked": true,
     "points": 1,
     "schema_version": 3,
     "solution": false,
     "task": false
    }
   },
   "outputs": [],
   "source": [
    "# проверка того, что задание решено верно\n",
    "assert sum(name) == 14\n",
    "assert np.abs(z_obs - 1.7888543819998317) < 1e-5\n"
   ]
  },
  {
   "cell_type": "markdown",
   "id": "a7dec136",
   "metadata": {
    "id": "ZfOpYGpDGbDV"
   },
   "source": [
    "Выводы учёных могут отличаться от наших. Результат проверки гипотезы зависит от многих внешних факторов. Например, от громкости произнесённого кошачьего имени. Все такие факторы надо как-то изолировать.\n",
    "\n",
    "[В оригинальном исследовании](https://www.nature.com/articles/s41598-019-40616-4) учёные реализовывали более сложные статистические процедуры. Они пытались проконтролировать все внешние факторы, которые могли бы повлиять на результаты эксперимента. О том, как это можно делать, мы с вами поговорим в будущем. \n",
    "\n",
    "![](https://cdn.nplus1.ru/images/2019/04/04/47a222337ec0984bcec1644f12b4c328.gif)"
   ]
  },
  {
   "cell_type": "markdown",
   "id": "af4a9da7",
   "metadata": {
    "id": "VaXPDaK_GbDV"
   },
   "source": [
    "## Матан\n",
    "\n",
    "Лекции по матану на экономическом факультете читают два преподавателя: Злой и Добрый. Каждый год они чередуются. Среди студентов ходит слух, что в год, когда преподаёт Злой, отчисляют куда больше народу. В таблице `matan.csv` лежит информация по $418$ студентам экономического факультета. \n",
    "\n",
    "В столбце `is_angry` стоит единица, если этому студенту преподавал Злой. В столбце `target_1` стоит единица, если человек закончил первый курс. Проверьте гипотезу о том, что Злой отчисляет больше народу. В переменную `pval` запишите $p$-значение, получившееся при проверке гипотезы. "
   ]
  },
  {
   "cell_type": "code",
   "execution_count": null,
   "id": "89bce3c7",
   "metadata": {
    "colab": {
     "base_uri": "https://localhost:8080/",
     "height": 206
    },
    "executionInfo": {
     "elapsed": 3,
     "status": "ok",
     "timestamp": 1659293599547,
     "user": {
      "displayName": "Ilya A",
      "userId": "17148912465935982955"
     },
     "user_tz": -180
    },
    "id": "FUM7SHMEGbDV",
    "outputId": "18c59e87-6dbc-42b2-f7d6-ccef791778f0"
   },
   "outputs": [],
   "source": [
    "df = pd.read_csv(ROOT+'matan.csv', sep='\\t')\n",
    "df.head()"
   ]
  },
  {
   "cell_type": "code",
   "execution_count": null,
   "id": "c509ad5a",
   "metadata": {},
   "outputs": [],
   "source": [
    "df.dropna(inplace=True)"
   ]
  },
  {
   "cell_type": "code",
   "execution_count": null,
   "id": "73b1f16c",
   "metadata": {
    "deletable": false,
    "id": "wnTQyka1GbDV",
    "nbgrader": {
     "cell_type": "code",
     "checksum": "3ac2faf1e5b216db1ab097b8d456f1f6",
     "grade": false,
     "grade_id": "cell-06da65b1aca523bb",
     "locked": false,
     "schema_version": 3,
     "solution": true,
     "task": false
    }
   },
   "outputs": [],
   "source": [
    "### ╰( ͡° ͜ʖ ͡° )つ▬▬ι═══════  bzzzzzzzzzz\n",
    "# your code below\n",
    "angry = df[df['is_angry'] == 1]['target_1']\n",
    "not_angry = df[df['is_angry'] == 0]['target_1']\n",
    "z_obs = stats.ttest_ind(zloy, dobry, equal_var=False)[0]\n",
    "#гипотеза о том, что злой отчисляет больше народу, не отвергается"
   ]
  },
  {
   "cell_type": "code",
   "execution_count": null,
   "id": "0d2c7f2b",
   "metadata": {
    "id": "GqW25tKZHk6e"
   },
   "outputs": [],
   "source": [
    "# проверка того, что задание решено верно\n",
    "assert np.abs(np.abs(z_obs) - 0.29897)  < 1e-5\n"
   ]
  },
  {
   "cell_type": "markdown",
   "id": "01fc66ba",
   "metadata": {
    "id": "9iC8GwjFGbDV"
   },
   "source": [
    "## Бутерброд\n",
    "\n",
    "Вася решил проверить известное утверждение о том, что бутерброд падает маслом вниз. Для этого он провёл серию из $200$ испытаний. Бутерброд упал маслом вниз $105$ раз. Маслом вверх $95$ раз. Можно ли утверждать, что бутерброд падает маслом вниз так же часто, как и маслом вверх на уровне значимости $5\\%$? В качестве ответа сохраните в `pval` $p$-значение. \n",
    "\n",
    "__Примечание:__ для поиска дисперсии используйте смещённый вариант. Либо по формуле $\\frac{p\\cdot(1-p)}{n}$ либо с помощью `std(ddof=0)`. При поиске `pval` обратите внимание, что алтернатива двусторонняя. А ещё [прочитайте историю](https://absentis.livejournal.com/27153.html) про то, почему Коперник мазал бутеры маслом. "
   ]
  },
  {
   "cell_type": "code",
   "execution_count": null,
   "id": "9accde1b",
   "metadata": {
    "deletable": false,
    "id": "CcejINJEGbDV",
    "nbgrader": {
     "cell_type": "code",
     "checksum": "32402f85ea10dfa3f248e44f703663e5",
     "grade": false,
     "grade_id": "cell-db59ee9982bc3985",
     "locked": false,
     "schema_version": 3,
     "solution": true,
     "task": false
    }
   },
   "outputs": [],
   "source": [
    "### ╰( ͡° ͜ʖ ͡° )つ▬▬ι═══════  bzzzzzzzzzz\n",
    "# your code below\n",
    "#H0: бутерброд падает маслом вниз и маслом вверх с равной вероятностью p = 0.5\n",
    "#H1: вероятности не равны\n",
    "n = 200\n",
    "m = 105\n",
    "alpha = 0.05\n",
    "p = 105/200 \n",
    "q = 1 - p \n",
    "\n",
    "alpha = 0.05\n",
    "p = 105/200 \n",
    "pval = 2 * (1 - stats.norm.cdf(abs(z_obs))) \n",
    "z_obs = (p - 0.5) / np.sqrt(0.5 * 0.5 / n) \n",
    "\n",
    "#pval больше уровня значимости, значит, нулевую гипотезу не отвергаем и \n",
    "#бутерброд падает маслом вверх и вниз с одинаковой вероятностью"
   ]
  },
  {
   "cell_type": "code",
   "execution_count": null,
   "id": "15305266",
   "metadata": {
    "id": "U-bMjDhgHkHx"
   },
   "outputs": [],
   "source": [
    "# проверка того, что задание решено верно\n",
    "assert np.abs(z_obs - 0.707) < 1e-3"
   ]
  },
  {
   "cell_type": "markdown",
   "id": "67b7b370",
   "metadata": {
    "id": "GaYQOkrIGbDV"
   },
   "source": [
    "<img src=\"https://i.ibb.co/Ks57rDV/student-teacher-dist.png\" height=\"300\" width=\"600\"> "
   ]
  },
  {
   "cell_type": "markdown",
   "id": "7664cc86",
   "metadata": {
    "id": "U4NtSGexJUXD"
   },
   "source": [
    "# Часть 2: Продолжаем проверять гипотезы\n"
   ]
  },
  {
   "cell_type": "markdown",
   "id": "749a0a6f",
   "metadata": {
    "id": "bvr1yy3JJUXI"
   },
   "source": [
    "## Однородная игра\n",
    "\n",
    "Киллер - это весёлая лагерная игра. Краткие правила игры:\n",
    "\n",
    "- Игроки пишут свои имена на карточках и кладут их в шляпу\n",
    "- Игроки рандомно вытаскивают карточки из шляпы \n",
    "- Полученное имя - имя жертвы\n",
    "- Каждый игрок одновременно и убийца и жертва\n",
    "- Чтобы убить другого игрока, надо оказаться с ним наедине и застрелить из пальца\n",
    "- Жертва убитого становится новой жертвой игрока\n",
    "- Побеждает тот, кто совершит наибольшее число убийств\n",
    "\n",
    "На экономическом факультете было два раунда игры в киллера. Все убийства регистрировались в гугл-форме. В табличках `killer_time1.csv` и `killer_time2.csv` лежит время в часах, которое проходило между убийствами."
   ]
  },
  {
   "cell_type": "code",
   "execution_count": null,
   "id": "9d858db7",
   "metadata": {
    "executionInfo": {
     "elapsed": 284,
     "status": "ok",
     "timestamp": 1659293646450,
     "user": {
      "displayName": "Ilya A",
      "userId": "17148912465935982955"
     },
     "user_tz": -180
    },
    "id": "kYfvEaT_JUXJ"
   },
   "outputs": [],
   "source": [
    "killer1 = pd.read_csv(ROOT+\"killer_time1.csv\").hours_between_kill.values\n",
    "killer2 = pd.read_csv(ROOT+\"killer_time2.csv\").hours_between_kill.values"
   ]
  },
  {
   "cell_type": "code",
   "execution_count": null,
   "id": "787c76fe",
   "metadata": {
    "colab": {
     "base_uri": "https://localhost:8080/",
     "height": 265
    },
    "executionInfo": {
     "elapsed": 871,
     "status": "ok",
     "timestamp": 1659293648415,
     "user": {
      "displayName": "Ilya A",
      "userId": "17148912465935982955"
     },
     "user_tz": -180
    },
    "id": "1krzIKHHJUXJ",
    "outputId": "539b856f-6072-4a9f-bc68-983b00357b35"
   },
   "outputs": [],
   "source": [
    "plt.hist(killer1, bins=20);"
   ]
  },
  {
   "cell_type": "code",
   "execution_count": null,
   "id": "9d53b420",
   "metadata": {
    "colab": {
     "base_uri": "https://localhost:8080/",
     "height": 265
    },
    "executionInfo": {
     "elapsed": 942,
     "status": "ok",
     "timestamp": 1659293649355,
     "user": {
      "displayName": "Ilya A",
      "userId": "17148912465935982955"
     },
     "user_tz": -180
    },
    "id": "WQyAo8dOJUXK",
    "outputId": "80aa38e2-965f-4e38-a6f4-d6debe07cae1"
   },
   "outputs": [],
   "source": [
    "plt.hist(killer2, bins=20);"
   ]
  },
  {
   "cell_type": "markdown",
   "id": "dae9cef6",
   "metadata": {
    "id": "nfpZHp6iJUXL"
   },
   "source": [
    "Распределение выглядит, как экспоненциальное. Более того, по гистограммам возникает ощущение, что это одинаковое распределение. С помощью теста Колмогорова-Смирнова проверьте гипотезу о том, что обе выборки пришли из одного и того же распределения, $p$-значение, полученное при проверке запишите в переменную `pvalue1`. "
   ]
  },
  {
   "cell_type": "code",
   "execution_count": null,
   "id": "9d8e5e5b",
   "metadata": {
    "deletable": false,
    "id": "IX7DAn9UJUXL",
    "nbgrader": {
     "cell_type": "code",
     "checksum": "44fb3b5304225f3947fbd73bc67a3d44",
     "grade": false,
     "grade_id": "cell-f8134e5d39cba5cd",
     "locked": false,
     "schema_version": 3,
     "solution": true,
     "task": false
    }
   },
   "outputs": [],
   "source": [
    "### ╰( ͡° ͜ʖ ͡° )つ▬▬ι═══════  bzzzzzzzzzz\n",
    "# your code below\n",
    "\n",
    "pvalue1 = stats.kstest(killer1, killer2)[1]"
   ]
  },
  {
   "cell_type": "markdown",
   "id": "fc783c07",
   "metadata": {
    "id": "M5R8h3YsJUXM"
   },
   "source": [
    "С помощью теста Колмогорова проверьте гипотезу о том, что время для первой игры имеет экспоненциальное распределение с параметром $\\lambda = 0.026$, $p$-значение, полученное при проверке запишите в переменную `pvalue2`. "
   ]
  },
  {
   "cell_type": "code",
   "execution_count": null,
   "id": "d1981c12",
   "metadata": {
    "deletable": false,
    "id": "XAgaSG7fJUXM",
    "nbgrader": {
     "cell_type": "code",
     "checksum": "b4e27fa1c6f0366a2e938430173a15b3",
     "grade": false,
     "grade_id": "cell-da5a87e744840bab",
     "locked": false,
     "schema_version": 3,
     "solution": true,
     "task": false
    }
   },
   "outputs": [],
   "source": [
    "### ╰( ͡° ͜ʖ ͡° )つ▬▬ι═══════  bzzzzzzzzzz\n",
    "# your code below\n",
    "\n",
    "lambd = 0.026\n",
    "pvalue2 = stats.kstest(killer1, 'expon', args = (0, 1/lambd))[1]"
   ]
  },
  {
   "cell_type": "code",
   "execution_count": null,
   "id": "9c918c4e",
   "metadata": {
    "deletable": false,
    "editable": false,
    "id": "-9CSLG6yJUXN",
    "nbgrader": {
     "cell_type": "code",
     "checksum": "92729497f6a2fc0d98bc3610e4f4c72d",
     "grade": true,
     "grade_id": "cell-be55b7fce581170d",
     "locked": true,
     "points": 2,
     "schema_version": 3,
     "solution": false,
     "task": false
    }
   },
   "outputs": [],
   "source": [
    "# проверка того, что задание решено верно\n",
    "assert pvalue1 > 0.5\n"
   ]
  },
  {
   "cell_type": "markdown",
   "id": "76867c7d",
   "metadata": {
    "id": "Y7bd0DTQJUXN"
   },
   "source": [
    "## Мыши и зеркало\n",
    "\n",
    "$16$ лабораторных мышей были помещены в двухкомнатные клетки, в одной из комнат висело зеркало. С целью установить, есть ли у мышей какие-то предпочтения насчет зеркал, измерялась доля времени, которое каждая мышь проводила в каждой из своих двух клеток.\n",
    "\n",
    "![](https://ars.els-cdn.com/content/image/1-s2.0-S0168159104000061-gr1.gif)\n",
    "\n",
    "В файле `mouses_mirror.txt` лежит информация о том, какую долю времени мышка проводила в клетке с зеркалом. "
   ]
  },
  {
   "cell_type": "code",
   "execution_count": null,
   "id": "6b3b0f01",
   "metadata": {
    "colab": {
     "base_uri": "https://localhost:8080/",
     "height": 265
    },
    "executionInfo": {
     "elapsed": 687,
     "status": "ok",
     "timestamp": 1659293663058,
     "user": {
      "displayName": "Ilya A",
      "userId": "17148912465935982955"
     },
     "user_tz": -180
    },
    "id": "UV1syPNPJUXN",
    "outputId": "570e0b2e-4b54-44bc-a851-7793e4c6abdc"
   },
   "outputs": [],
   "source": [
    "x = pd.read_csv(ROOT+'mouses_mirror.txt', header = None)[0].values\n",
    "plt.hist(x, density=True);"
   ]
  },
  {
   "cell_type": "markdown",
   "id": "c8909f38",
   "metadata": {
    "id": "bmLSU-CTJUXO"
   },
   "source": [
    "Проверьте гипотезу о том, что мышкам безразлично в какой комнате проводить время с помощью критерия знаков. Сформулируйте нулевую гипотезу, перечислите основные особенности этого критерия. Запишите в переменную `pvalue_1` получившееся в результате этого $p$-значение. "
   ]
  },
  {
   "cell_type": "code",
   "execution_count": null,
   "id": "defbade7",
   "metadata": {
    "deletable": false,
    "id": "7Z5XesobJUXO",
    "nbgrader": {
     "cell_type": "code",
     "checksum": "69c18cd39cdcc6708cc99b3d2034796a",
     "grade": false,
     "grade_id": "cell-6b6cc3cc3f9d2e2d",
     "locked": false,
     "schema_version": 3,
     "solution": true,
     "task": false
    }
   },
   "outputs": [],
   "source": [
    "### ╰( ͡° ͜ʖ ͡° )つ▬▬ι═══════  bzzzzzzzzzz\n",
    "# your code below\n",
    "#Ho = доля времени, проводимая мышкой в клетке с зеркалом, равна 0.5 \n",
    "#Ha = не равна 0.5\n",
    "\n",
    "from statsmodels.stats.descriptivestats import sign_test\n",
    "# применяется для проверки равенства медианы некоторому заданному значению (для одной выборки)\n",
    "# или о равенстве нулю медианы разности (для двух связанных выборок)\n",
    "# подходит для небольших выборок;\n",
    "# не требует знания распределения выборки.\n",
    "\n",
    "n = x.shape[0]\n",
    "med_0 = 0.5\n",
    "\n",
    "T, pvalue_1 = sign_test(x, mu0=med_0)"
   ]
  },
  {
   "cell_type": "markdown",
   "id": "cb85104c",
   "metadata": {
    "id": "Zej2AKWRJUXO"
   },
   "source": [
    "Проверьте гипотезу о том, что мышкам безразлично в какой комнате проводить время с помощью теста Вилкоксона. Сформулируйте нулевую гипотезу, перечислите основные особенности этого критерия.  Запишите в переменную `pvalue_2` получившееся в результате этого $p$-значение. "
   ]
  },
  {
   "cell_type": "code",
   "execution_count": null,
   "id": "d0ffce2b",
   "metadata": {
    "deletable": false,
    "id": "Awlj-VqcJUXO",
    "nbgrader": {
     "cell_type": "code",
     "checksum": "810237e6b508833ff45a566c9122dc2d",
     "grade": false,
     "grade_id": "cell-689716dd8c46567c",
     "locked": false,
     "schema_version": 3,
     "solution": true,
     "task": false
    }
   },
   "outputs": [],
   "source": [
    "### ╰( ͡° ͜ʖ ͡° )つ▬▬ι═══════  bzzzzzzzzzz\n",
    "# your code below\n",
    "# применяется для сравнения медиан двух выборок;\n",
    "# подходит для выборок любого размера;\n",
    "# не требует нормальности выборки.\n",
    "\n",
    "pvalue_2 = stats.wilcoxon(x - 0.5)[1]"
   ]
  },
  {
   "cell_type": "markdown",
   "id": "0fe6cd88",
   "metadata": {
    "id": "fwaS3s5gJUXP"
   },
   "source": [
    "Проверьте гипотезу о том, что мышкам безразлично в какой комнате проводить время с помощью асимптотического $z$-теста. Сформулируйте нулевую гипотезу, перечислите основные особенности этого критерия.  Запишите в переменную `pvalue_3` получившееся в результате этого $p$-значение. "
   ]
  },
  {
   "cell_type": "code",
   "execution_count": null,
   "id": "ab6a527b",
   "metadata": {
    "deletable": false,
    "id": "u5HlNpxiJUXP",
    "nbgrader": {
     "cell_type": "code",
     "checksum": "b55c22e6795228bd3d57ea5a1e98c49a",
     "grade": false,
     "grade_id": "cell-4ce505503163ae74",
     "locked": false,
     "schema_version": 3,
     "solution": true,
     "task": false
    }
   },
   "outputs": [],
   "source": [
    "from statsmodels.stats.weightstats import ztest,zconfint\n",
    "# основан на статистике z\n",
    "# подходит для проверки гипотез о долях в больших выборках (обычно более 30 наблюдений);\n",
    "# предполагает нормальность выборки.\n",
    "### ╰( ͡° ͜ʖ ͡° )つ▬▬ι═══════  bzzzzzzzzzz\n",
    "# your code below\n",
    "\n",
    "pvalue_3 = ztest(x, value=0.5)[1]"
   ]
  },
  {
   "cell_type": "code",
   "execution_count": null,
   "id": "b3cf289c",
   "metadata": {
    "deletable": false,
    "editable": false,
    "id": "2hHW3dxXJUXP",
    "nbgrader": {
     "cell_type": "code",
     "checksum": "73290f06f31fe8c145c864dae9c02101",
     "grade": true,
     "grade_id": "cell-2f9dfc7c1834c8a5",
     "locked": true,
     "points": 2,
     "schema_version": 3,
     "solution": false,
     "task": false
    }
   },
   "outputs": [],
   "source": [
    "# проверка того, что задание решено верно\n",
    "assert pvalue_1 < 0.05\n",
    "assert pvalue_2 > 0.05\n",
    "assert pvalue_3 > 0.05\n"
   ]
  },
  {
   "cell_type": "markdown",
   "id": "f992ece2",
   "metadata": {
    "id": "le-4YyzmJUXP"
   },
   "source": [
    "Объясните, почему `pvalue` от теста к тесту ведёт себя именно так. Подробнее про опыт с мышками читайте [в оригинальном исследовании.](https://www.sciencedirect.com/science/article/abs/pii/S0168159104000061)"
   ]
  },
  {
   "cell_type": "markdown",
   "id": "b33bdeb2",
   "metadata": {
    "id": "cP9JajAQJUXP"
   },
   "source": [
    "## Энергетик\n",
    "\n",
    "Исследовательница Глафира считает, что любовь к энергетическим напиткам и успешность сдачи экзамена по математической статистике должны быть как-то связаны. Опросив $200$ своих однокурсников, она получила следующие результаты:\n",
    "\n",
    "- Сдал, пьёт энергетик: 20\n",
    "- Сдал, не пьёт энергетик: 120\n",
    "- Завалил, пьёт энергетик: 40\n",
    "- Завалил, не пьёт энергетик: 20\n",
    "\n",
    "Правда ли, что энергетик оказывает на успешность сдачи экзамена какое-то влияние? Проверьте гипотезу с помощью критерия Пирсона. В качестве ответа запишите в переменную `pvalue` получившееся $p$-значение."
   ]
  },
  {
   "cell_type": "code",
   "execution_count": null,
   "id": "accf6629",
   "metadata": {
    "deletable": false,
    "id": "66VFtzaoJUXP",
    "nbgrader": {
     "cell_type": "code",
     "checksum": "11b701a76c7cad856b9a90da5179b7fe",
     "grade": false,
     "grade_id": "cell-8806588bc0865379",
     "locked": false,
     "schema_version": 3,
     "solution": true,
     "task": false
    }
   },
   "outputs": [],
   "source": []
  },
  {
   "cell_type": "code",
   "execution_count": null,
   "id": "7c34c99d",
   "metadata": {},
   "outputs": [],
   "source": [
    "### ╰( ͡° ͜ʖ ͡° )つ▬▬ι═══════  bzzzzzzzzzz\n",
    "# your code below\n",
    "passed = np.array([20, 120])\n",
    "fail = np.array([40, 20])\n",
    "table = pd.DataFrame({'pass': passed, 'fail': fail}, \n",
    "                     index=['not_drink', 'drink'])\n",
    "table"
   ]
  },
  {
   "cell_type": "code",
   "execution_count": null,
   "id": "54cfd52f",
   "metadata": {},
   "outputs": [],
   "source": [
    "chi, pvalue, df_, expected = stats.chi2_contingency(table.values, correction=False)\n",
    "pvalue"
   ]
  },
  {
   "cell_type": "code",
   "execution_count": null,
   "id": "651b8e89",
   "metadata": {
    "deletable": false,
    "editable": false,
    "id": "UcMfPHBnJUXP",
    "nbgrader": {
     "cell_type": "code",
     "checksum": "da1fdd962d58f234934cc003b1d90290",
     "grade": true,
     "grade_id": "cell-920f09f17b0aafde",
     "locked": true,
     "points": 2,
     "schema_version": 3,
     "solution": false,
     "task": false
    }
   },
   "outputs": [],
   "source": [
    "# проверка того, что задание решено верно\n",
    "assert pvalue < 0.05\n"
   ]
  },
  {
   "cell_type": "markdown",
   "id": "282ddbb9",
   "metadata": {
    "id": "Fh5Cl9MHJUXQ"
   },
   "source": [
    "## Бомбардировки\n",
    "\n",
    "В таблице `london_07-09-1940.tsv` лежат данные о бомбардировке Лондона 7 сентября 1940 года немецкой авиацией. Интересно выяснить, насколько прицельно велась бомбардировка. Если немецкие войска знали, где именно находятся британские военные объекты, они вели бы бомбардировку пристрельно.  \n",
    "\n",
    "Ещё больше данных о бомбардировке Лондона ищите здесь: http://bombsight.org/data/sources/"
   ]
  },
  {
   "cell_type": "code",
   "execution_count": null,
   "id": "6c6e713b",
   "metadata": {
    "colab": {
     "base_uri": "https://localhost:8080/",
     "height": 223
    },
    "executionInfo": {
     "elapsed": 287,
     "status": "ok",
     "timestamp": 1659293672267,
     "user": {
      "displayName": "Ilya A",
      "userId": "17148912465935982955"
     },
     "user_tz": -180
    },
    "id": "_G-twKngJUXQ",
    "outputId": "8ed0b38a-b5dd-4b44-d8d9-694ad3ac527f"
   },
   "outputs": [],
   "source": [
    "df = pd.read_csv(ROOT+'london_07-09-1940.tsv', sep='\\t')\n",
    "print(df.shape)\n",
    "df.head()"
   ]
  },
  {
   "cell_type": "code",
   "execution_count": null,
   "id": "5a3470b1",
   "metadata": {
    "colab": {
     "base_uri": "https://localhost:8080/",
     "height": 265
    },
    "executionInfo": {
     "elapsed": 420,
     "status": "ok",
     "timestamp": 1659293673905,
     "user": {
      "displayName": "Ilya A",
      "userId": "17148912465935982955"
     },
     "user_tz": -180
    },
    "id": "rxdSRKjvJUXQ",
    "outputId": "277d42aa-0812-4822-c8bc-0d8ce7eeb68c"
   },
   "outputs": [],
   "source": [
    "plt.scatter(df.x, df.y);"
   ]
  },
  {
   "cell_type": "markdown",
   "id": "032165b8",
   "metadata": {
    "id": "vE8e6UDHJUXQ"
   },
   "source": [
    "В колонках $x$ и $y$ лежат координаты точки, куда упала бомба. Разбейте Лондон решёткой размера $30 \\times 30$ на $900$ небольших квадратных участков. С помощью функции `binned_statistic_2d` из пакета `scipy.stats`, подсчитайте как часто снаряд попадал на какой из участков. Поместите информацию об этом в переменную `ret`. "
   ]
  },
  {
   "cell_type": "code",
   "execution_count": null,
   "id": "e80c2d63",
   "metadata": {
    "deletable": false,
    "id": "hQUr_igwJUXQ",
    "nbgrader": {
     "cell_type": "code",
     "checksum": "3d8e8a1156fdd06c8ae186fb41313b02",
     "grade": false,
     "grade_id": "cell-2a06adb25a0b5542",
     "locked": false,
     "schema_version": 3,
     "solution": true,
     "task": false
    }
   },
   "outputs": [],
   "source": [
    "binx = np.linspace(df.x.min(), df.x.max(), 31)\n",
    "biny = np.linspace(df.y.min(), df.y.max(), 31)\n",
    "\n",
    "### ╰( ͡° ͜ʖ ͡° )つ▬▬ι═══════  bzzzzzzzzzz\n",
    "# your code below\n",
    "\n",
    "ret = stats.binned_statistic_2d(df.x, df.y, None, 'count', bins = [binx, biny])\n",
    "\n",
    "sns.heatmap(ret.statistic);"
   ]
  },
  {
   "cell_type": "markdown",
   "id": "632ed84f",
   "metadata": {
    "id": "BsYE5VbiJUXQ"
   },
   "source": [
    "Распакуйте информацию о попаданиях в участки в вектор `z`. Нарисуте гистограмму для получившегося распределения. "
   ]
  },
  {
   "cell_type": "code",
   "execution_count": null,
   "id": "3dc7dc06",
   "metadata": {
    "deletable": false,
    "id": "5cLVqdedJUXQ",
    "nbgrader": {
     "cell_type": "code",
     "checksum": "3fbbdfb1fc38caf7a66e28a32e3d5cd5",
     "grade": false,
     "grade_id": "cell-1b692a90383e2eff",
     "locked": false,
     "schema_version": 3,
     "solution": true,
     "task": false
    }
   },
   "outputs": [],
   "source": [
    "### ╰( ͡° ͜ʖ ͡° )つ▬▬ι═══════  bzzzzzzzzzz\n",
    "# your code below\n",
    "\n",
    "z = ret.statistic.flatten()\n",
    "plt.hist(z, bins=range(10), alpha=0.5)\n",
    "plt.xticks(range(10))\n",
    "plt.xlabel('Число попаданий на участок')\n",
    "plt.ylabel('Частота')"
   ]
  },
  {
   "cell_type": "markdown",
   "id": "2f1a298d",
   "metadata": {
    "id": "EvSfTHgjJUXQ"
   },
   "source": [
    "Участков много, а вероятность попадания на отдельный участок мала. При справедливости гипотезы о низкой точности стрельбы мы можем воспользоваться законом редких событий:\n",
    "\n",
    "> Если в схеме испытаний Бернулли $p \\to 0$, а $n \\to \\infty$, оно сходится к распределению Пуассона. \n",
    "\n",
    "Получается, что __при верности гипотезы о низкой точности стрельбы,__ число попаданий в квадрат имеет распределение Пуассона. Дополнительно будем предполагать, что попадания на разные участки независимы друг от друга. \n",
    "\n",
    "C помощью критерия Пирсона проверьте гипотезу о том, что число попаданий на участок имеет распределение Пуассона. Прежде, чем вычислять статистику, объедините все наблюдения из хвоста в одно по аналогии с лекцией. Хвостом будем считать все наблюдения $\\ge 9$. Получившуюся в результате расчётов статистику запишите в переменную `T`."
   ]
  },
  {
   "cell_type": "code",
   "execution_count": null,
   "id": "8eb7ec37",
   "metadata": {
    "deletable": false,
    "id": "Ry0mhX_GJUXQ",
    "nbgrader": {
     "cell_type": "code",
     "checksum": "27458dfda82dafb25009a2fa92b137b2",
     "grade": false,
     "grade_id": "cell-ae799b5490316110",
     "locked": false,
     "schema_version": 3,
     "solution": true,
     "task": false
    }
   },
   "outputs": [],
   "source": [
    "### ╰( ͡° ͜ʖ ͡° )つ▬▬ι═══════  bzzzzzzzzzz\n",
    "# your code below\n",
    "\n",
    "n = len(df)\n",
    "p = z.sum() / (30**2 * n)\n",
    "mu = n * p\n",
    "expected = stats.poisson(mu).pmf(np.arange(10)) * len(z)\n",
    "expected[8] = expected[8] + expected[9]\n",
    "expected = np.delete(expected, 9)"
   ]
  },
  {
   "cell_type": "code",
   "execution_count": null,
   "id": "7c72d308",
   "metadata": {},
   "outputs": [],
   "source": [
    "observed = np.histogram(z, bins=range(11))[0]\n",
    "observed[8] = observed[8] + observed[9] \n",
    "observed = np.delete(observed, 9) \n",
    "\n",
    "T = np.sum((observed - expected)**2 / expected)\n",
    "df = len(expected) - 1 # число степеней свободы\n",
    "alpha = 0.05\n",
    "critical_value = stats.chi2.ppf(q=1-alpha, df=df) \n",
    "#T > critical_value -> гипотеза о распределении Пуассона отвергается"
   ]
  },
  {
   "cell_type": "code",
   "execution_count": null,
   "id": "1c0689a8",
   "metadata": {
    "deletable": false,
    "editable": false,
    "id": "yednYOD3JUXQ",
    "nbgrader": {
     "cell_type": "code",
     "checksum": "04a992cbb78c1776904005722f0fad09",
     "grade": true,
     "grade_id": "cell-2986a877274d9a7e",
     "locked": true,
     "points": 2,
     "schema_version": 3,
     "solution": false,
     "task": false
    }
   },
   "outputs": [],
   "source": [
    "# проверка того, что задание решено верно\n",
    "assert T > 6000\n"
   ]
  },
  {
   "cell_type": "markdown",
   "id": "1c05a69a",
   "metadata": {
    "id": "vtHNYBcoJUXR"
   },
   "source": [
    "Какой вывод мы можем из этого сделать? Правда ли, что бомбардировка осуществлялась прицельно? "
   ]
  },
  {
   "cell_type": "markdown",
   "id": "110f9cd0",
   "metadata": {},
   "source": [
    "Видимо, правда"
   ]
  },
  {
   "cell_type": "markdown",
   "id": "c6a55ecb",
   "metadata": {
    "id": "Tuwc0JwfMRyM"
   },
   "source": [
    "# Еще больше гипотез"
   ]
  },
  {
   "cell_type": "markdown",
   "id": "0e68622c",
   "metadata": {
    "id": "HALykPFtX3yt"
   },
   "source": [
    "- Ниже приведены несколько датасетов, их необходимо самостоятельно проанализировать и ответить на определенные вопросы\n",
    "- Для ответа на эти вопросы нужно сделать следующее\n",
    "    - Сделать хорошую визуализацию исследуемых переменных\n",
    "    - Для каждой из задач подобрать **все подходящие** параметрические и непараметрические критерии, проанализировать результаты этих критериев (тут имеет смысл обернуть все критерии в фунцию или словарь - как удобно)\n",
    "- Для каждого набора данных проверьте нормальность выборки и допустимость использования параметрических критериев (можно прокомментировать гистограмму и воспользоваться соответствующими критериями согласия)\n",
    "- Не забудьте оставить краткие комментарии к вашим действиям и сформулировать выводы, которые вы сделали в ходе анализа\n"
   ]
  },
  {
   "cell_type": "markdown",
   "id": "11556e74",
   "metadata": {
    "id": "nbHK4unpW5Js"
   },
   "source": [
    "## Анорексия\n",
    "\n",
    "В файле anorexia.txt записан вес пациентов до начала терапии анорексии и после ее окончания. Была ли терапия в эффективна?\n"
   ]
  },
  {
   "cell_type": "code",
   "execution_count": null,
   "id": "43cb0d8c",
   "metadata": {
    "colab": {
     "base_uri": "https://localhost:8080/",
     "height": 206
    },
    "executionInfo": {
     "elapsed": 259,
     "status": "ok",
     "timestamp": 1659293688325,
     "user": {
      "displayName": "Ilya A",
      "userId": "17148912465935982955"
     },
     "user_tz": -180
    },
    "id": "Cyt0g08jhKNC",
    "outputId": "1911aea7-7101-46b1-de0b-edc326efdc9c"
   },
   "outputs": [],
   "source": [
    "df = pd.read_csv(ROOT+'anorexia.txt', sep='\\t')\n",
    "df.head()\n"
   ]
  },
  {
   "cell_type": "code",
   "execution_count": null,
   "id": "f92c5d67",
   "metadata": {},
   "outputs": [],
   "source": [
    "sns.histplot(df, bins=10, stat='density')"
   ]
  },
  {
   "cell_type": "code",
   "execution_count": null,
   "id": "596cdb3e",
   "metadata": {},
   "outputs": [],
   "source": [
    "stats.ks_2samp(df[\"Before\"], df[\"After\"])\n",
    "#гипотеза о нормальности распределений не отвергается, можно воспользоваться парам.критериями"
   ]
  },
  {
   "cell_type": "code",
   "execution_count": null,
   "id": "6712529e",
   "metadata": {},
   "outputs": [],
   "source": [
    "#Ho - Терапия неэффективна\n",
    "#Ha - Терапия эффективна"
   ]
  },
  {
   "cell_type": "code",
   "execution_count": null,
   "id": "91697c40",
   "metadata": {
    "scrolled": true
   },
   "outputs": [],
   "source": [
    "from statsmodels.stats.descriptivestats import sign_test\n",
    "\n",
    "def crit(df_B, df_A):\n",
    "    alpha = 0.05\n",
    "    pvalue_sign = sign_test(df_B, df_A)[1] #критерий знаков\n",
    "    pvalue_ttest = stats.ttest_rel(df_B, df_A)[1]#t-критерий Стьюдентa для связанных выборок\n",
    "    pvalue_t = stats.pearsonr(df_B, df_A)[1] #t-test\n",
    "    wilcoxon_stat, pvalue_wilc = stats.wilcoxon(df_B, df_A) #Критерий Уилкоксона\n",
    "    return pvalue_sign, pvalue_ttest, pvalue_t, pvalue_wilc\n",
    "\n",
    "pval = crit(df[\"Before\"], df[\"After\"])\n",
    "#гипотеза о неэффективности отвергается"
   ]
  },
  {
   "cell_type": "markdown",
   "id": "9111167e",
   "metadata": {
    "id": "Gl2o-SqZXVl0"
   },
   "source": [
    "## Метилфенидат\n",
    "В рамках исследования эффективности препарата метилфенидат пациенты с синдромом дефицита внимания и гиперактивности в течение недели принимали либо метилфенидат, либо плацебо. В конце недели каждый пациент проходили тест на способность к подавлению импульсивных поведенческих реакций. На втором этапе плацебо и препарат менялись, и после недельного курса каждый испытуемые проходили второй тест. Был ли эффект от применения препарата? Данные находятся в файле methylphenidate.txt.\n",
    "\n"
   ]
  },
  {
   "cell_type": "code",
   "execution_count": null,
   "id": "290f30e9",
   "metadata": {
    "colab": {
     "base_uri": "https://localhost:8080/",
     "height": 206
    },
    "executionInfo": {
     "elapsed": 513,
     "status": "ok",
     "timestamp": 1659293692351,
     "user": {
      "displayName": "Ilya A",
      "userId": "17148912465935982955"
     },
     "user_tz": -180
    },
    "id": "yyTmPFVserUA",
    "outputId": "40d90f1f-50c4-4906-ca76-baafdaba42c3"
   },
   "outputs": [],
   "source": [
    "df = pd.read_csv(ROOT+'methylphenidate.txt', sep=' ')\n",
    "df.head()"
   ]
  },
  {
   "cell_type": "code",
   "execution_count": null,
   "id": "c17bd450",
   "metadata": {},
   "outputs": [],
   "source": [
    "sns.histplot(df, stat='density', bins = 15)"
   ]
  },
  {
   "cell_type": "code",
   "execution_count": null,
   "id": "2196d6f5",
   "metadata": {},
   "outputs": [],
   "source": [
    "stats.ks_2samp(df['Placebo'], df['Methylphenidate'])\n",
    "#гипотеза о нормальности распределений не отвергается, можно воспользоваться парам.критериями"
   ]
  },
  {
   "cell_type": "code",
   "execution_count": null,
   "id": "e5606e9a",
   "metadata": {},
   "outputs": [],
   "source": [
    "#Ho - Эффекта не было\n",
    "#Ha - был эффект от применения препарата\n",
    "\n",
    "from statsmodels.stats.descriptivestats import sign_test\n",
    "\n",
    "def crit(df_B, df_A):\n",
    "    alpha = 0.05\n",
    "    stat, pvalue_ttest = stats.ttest_rel(df_B, df_A)#t-критерий Стьюдентa для связанных выборок\n",
    "    pvalue_sign = sign_test(df_B, df_A)[1] #критерий знаков\n",
    "    pvalue_t = stats.pearsonr(df_B, df_A)[1] #t-test\n",
    "    wilcoxon_stat, pvalue_wilc = stats.wilcoxon(df_B, df_A) #Критерий Уилкоксона\n",
    "    return pvalue_ttest, pvalue_sign, pvalue_t, pvalue_wilc\n",
    "\n",
    "\n",
    "pval = crit(df['Placebo'], df['Methylphenidate'])\n",
    "#гипотеза о неэффективности отвергается"
   ]
  },
  {
   "cell_type": "markdown",
   "id": "93066746",
   "metadata": {
    "id": "tRwTUweFXO-F"
   },
   "source": [
    "## Сиэтл\n",
    "В файле seattle.txt записаны цены на недвижимость в одном из районов Сиэтла в 2001 году и в 2002 году (объекты недвижимости выбирались случайно). Изменились ли в среднем цены в этом районе за год?\n"
   ]
  },
  {
   "cell_type": "code",
   "execution_count": null,
   "id": "37947cdd",
   "metadata": {
    "colab": {
     "base_uri": "https://localhost:8080/",
     "height": 206
    },
    "executionInfo": {
     "elapsed": 283,
     "status": "ok",
     "timestamp": 1659293698071,
     "user": {
      "displayName": "Ilya A",
      "userId": "17148912465935982955"
     },
     "user_tz": -180
    },
    "id": "VOIIliUEeqkE",
    "outputId": "92338f65-a29a-4368-b623-c377d0ad1730",
    "scrolled": true
   },
   "outputs": [],
   "source": [
    "df = pd.read_csv(ROOT+'seattle.txt', sep='\\t')\n",
    "df.head()"
   ]
  },
  {
   "cell_type": "code",
   "execution_count": null,
   "id": "2ca7a95f",
   "metadata": {},
   "outputs": [],
   "source": [
    "fig, (ax1, ax2) = plt.subplots(nrows=1, ncols=2, figsize=(10, 5))\n",
    "ax1.hist(df[df['Year'] == 2001]['Price'], bins=20)\n",
    "ax1.set_title('Цены на недвижимость в 2001 году')\n",
    "ax1.set_xlabel('Цена')\n",
    "ax1.set_ylabel('Количество недвижимости')\n",
    "ax2.hist(df[df['Year'] == 2002]['Price'], bins=20)\n",
    "ax2.set_title('Цены на недвижимость в 2002 году')\n",
    "ax2.set_xlabel('Цена')\n",
    "ax2.set_ylabel('Количество недвижимости')\n",
    "plt.show()"
   ]
  },
  {
   "cell_type": "code",
   "execution_count": null,
   "id": "a185fe22",
   "metadata": {},
   "outputs": [],
   "source": [
    "stats.ks_2samp(df[df['Year'] == 2001]['Price'], df[df['Year'] == 2002]['Price'])\n",
    "#гипотеза о нормальности распределений не отвергается, можно воспользоваться парам.критериями"
   ]
  },
  {
   "cell_type": "code",
   "execution_count": null,
   "id": "355b5bc1",
   "metadata": {},
   "outputs": [],
   "source": [
    "# H0: в среднем цены не изменились\n",
    "# H1: изменились"
   ]
  },
  {
   "cell_type": "code",
   "execution_count": null,
   "id": "af7f1c67",
   "metadata": {},
   "outputs": [],
   "source": [
    "#z-тест\n",
    "alpha = 0.05                                                    \n",
    "x = df[df['Year'] == 2001]['Price']\n",
    "y = df[df['Year'] == 2002]['Price']\n",
    "nx, ny = x.size, y.size                                   \n",
    "\n",
    "diff = x.mean() - y.mean()                                \n",
    "diff_std = np.sqrt(x.var(ddof=1)/nx + y.var(ddof=1)/ny)   \n",
    "\n",
    "z_obs = diff/diff_std                                           \n",
    "z_crit = stats.norm.ppf(1 - alpha)                       \n",
    "\n",
    "print(f'Наблюдаемое значение {z_obs:.5} меньше критического {z_crit:.3} => нулевая гипотеза не отвергается')"
   ]
  },
  {
   "cell_type": "code",
   "execution_count": null,
   "id": "0dc6230d",
   "metadata": {
    "scrolled": true
   },
   "outputs": [],
   "source": [
    "def crit(df_P, df_M):\n",
    "    alpha = 0.05\n",
    "    stat, pvalue_tcrit = stats.ttest_ind(df_P, df_M) #t-критерий Стьюдентa\n",
    "    mannwhitneyu_stat, pvalue_mann = stats.mannwhitneyu(df_P, df_M) #Критерий Манна-Уитни\n",
    "    return pvalue_tcrit, pvalue_mann\n",
    "\n",
    "pval = crit(df[df['Year'] == 2001]['Price'], df[df['Year'] == 2002]['Price'])\n",
    "#нулевая гипотеза не отвергается"
   ]
  },
  {
   "cell_type": "markdown",
   "id": "54a416b6",
   "metadata": {
    "id": "ew4ByKQOXjyD"
   },
   "source": [
    "## Расход топлива\n",
    "В файле mtcars.csv находятся данные из американского журнала Motor Trend 1974 года. Они описывают расход топлива в зависимости от 10 характеристик автомобиля (все автомобили 1973-1974 года). А именно, в данных вы найдете следующие столбцы:\n",
    "1. mpg — расход топлива (миль/галлон); \n",
    "2. cyl — количество цилиндров мотора; 3) disp — объем мотор (куб. дюйм);\n",
    "4. hp — мощность мотора (в лошадиных силах);\n",
    "5. drat — передаточное число редуктора заднего моста;\n",
    "6. wt — вес (тысяч фунтов);\n",
    "7. qsec — время, за которое автомобиль проезжает 1/4 мили;\n",
    "8. vs — тип двигателя (0 = V-образный, 1 = рядный);\n",
    "9. am — тип коробки передач (0 = автоматическая, 1 = ручная);\n",
    "10. gear — количество передних передач; 11) carb — количество карбюраторов.\n",
    "\n"
   ]
  },
  {
   "cell_type": "markdown",
   "id": "437730eb",
   "metadata": {
    "id": "nFvA_mW-MVkM"
   },
   "source": [
    "- Влияет ли тип двигателя на расход топлива? \n",
    "- А тип коробки передач?\n",
    "- Взаимосвязаны ли тип двигателя и тип коробки передач?"
   ]
  },
  {
   "cell_type": "code",
   "execution_count": null,
   "id": "f040b433",
   "metadata": {
    "colab": {
     "base_uri": "https://localhost:8080/",
     "height": 206
    },
    "executionInfo": {
     "elapsed": 266,
     "status": "ok",
     "timestamp": 1659293704350,
     "user": {
      "displayName": "Ilya A",
      "userId": "17148912465935982955"
     },
     "user_tz": -180
    },
    "id": "OqCi07e-XsGv",
    "outputId": "62a7bf13-eedc-4f64-c64f-cd29bb246e98"
   },
   "outputs": [],
   "source": [
    "df = pd.read_csv(ROOT+'mtcars.csv', index_col=0)\n",
    "df.head()\n"
   ]
  },
  {
   "cell_type": "code",
   "execution_count": null,
   "id": "571bf5c2",
   "metadata": {},
   "outputs": [],
   "source": [
    "def crit(df_B, df_A):\n",
    "    alpha = 0.05\n",
    "    stat, pvalue_tcrit = stats.ttest_ind(df_B, df_A) #t-критерий Стьюдентa\n",
    "    mannwhitneyu_stat, pvalue_mann = stats.mannwhitneyu(df_B, df_A) #Критерий Манна-Уитни\n",
    "    wilcoxon_stat, pvalue_wilc = stats.wilcoxon(df_B, df_A) #Критерий Уилкоксона\n",
    "    return pvalue_tcrit, pvalue_mann, pvalue_wilc\n",
    "\n",
    "pval = crit(df[\"Before\"], df[\"After\"])\n",
    "pval\n",
    "#гипотеза об эффективности терапии не отвергается"
   ]
  },
  {
   "cell_type": "markdown",
   "id": "0112b8d2",
   "metadata": {
    "id": "9Zz_I5TeMVkM"
   },
   "source": [
    "### vs, mpg"
   ]
  },
  {
   "cell_type": "code",
   "execution_count": null,
   "id": "d3538314",
   "metadata": {},
   "outputs": [],
   "source": [
    "fig, (ax1, ax2) = plt.subplots(ncols=2, figsize=(12, 6))\n",
    "sns.boxplot(x='vs', y='mpg', data=df, ax=ax1)\n",
    "ax1.set_xlabel('Тип двигателя', fontsize=12)\n",
    "ax1.set_ylabel('Расход топлива', fontsize=12)\n",
    "ax1.set_title('Расход топлива в зависимости от типа двигателя', fontsize=14)\n",
    "\n",
    "sns.histplot(df, x='mpg', hue='vs', element='step', alpha=0.7, stat='density', ax=ax2)\n",
    "ax2.set_xlabel('Расход топлива', fontsize=12)\n",
    "ax2.set_title('Расход топлива в зависимости от типа двигателя', fontsize=14)"
   ]
  },
  {
   "cell_type": "code",
   "execution_count": null,
   "id": "e423158f",
   "metadata": {},
   "outputs": [],
   "source": [
    "stats.ks_2samp(df[df['vs'] == 0]['mpg'], df[df['vs'] == 1]['mpg'])\n",
    "#гипотеза о нормальности распределений отвергается"
   ]
  },
  {
   "cell_type": "code",
   "execution_count": null,
   "id": "c627402b",
   "metadata": {},
   "outputs": [],
   "source": [
    "# H0: расход топлива не зависит от типа двигателя\n",
    "# H1: расход топлива зависит от типа двигателя"
   ]
  },
  {
   "cell_type": "code",
   "execution_count": null,
   "id": "f019e5d6",
   "metadata": {
    "id": "7CqwhMoPMVkN"
   },
   "outputs": [],
   "source": [
    "def crit(df_B, df_A):\n",
    "    alpha = 0.05\n",
    "    stat, pvalue_tcrit = stats.ttest_ind(df_B, df_A) #t-критерий Стьюдентa\n",
    "    mannwhitneyu_stat, pvalue_mann = stats.mannwhitneyu(df_B, df_A) #Критерий Манна-Уитни\n",
    "    return pvalue_tcrit, pvalue_mann\n",
    "\n",
    "pval = crit(df[df['vs'] == 0]['mpg'], df[df['vs'] == 1]['mpg'])\n",
    "#нулевая гипотеза отвергается -> расход топлива зависит от типа двигателя"
   ]
  },
  {
   "cell_type": "markdown",
   "id": "711541a8",
   "metadata": {
    "id": "gaZ6XmvuexzG"
   },
   "source": [
    "### am, mpg"
   ]
  },
  {
   "cell_type": "code",
   "execution_count": null,
   "id": "3ce4d335",
   "metadata": {},
   "outputs": [],
   "source": [
    "fig, (ax1, ax2) = plt.subplots(ncols=2, figsize=(12, 6))\n",
    "sns.boxplot(x='am', y='mpg', data=df, ax=ax1)\n",
    "ax1.set_xlabel('Тип коробки передач', fontsize=12)\n",
    "ax1.set_ylabel('Расход топлива', fontsize=12)\n",
    "ax1.set_title('Расход топлива в зависимости от типа коробки передач', fontsize=14)\n",
    "\n",
    "sns.histplot(df, x='mpg', hue='am', element='step', alpha=0.7, stat='density', ax=ax2)\n",
    "ax2.set_xlabel('Расход топлива', fontsize=12)\n",
    "ax2.set_title('Расход топлива в зависимости от типа коробки передач', fontsize=14)"
   ]
  },
  {
   "cell_type": "code",
   "execution_count": null,
   "id": "450873ea",
   "metadata": {},
   "outputs": [],
   "source": [
    "stats.ks_2samp(df[df['am'] == 0]['mpg'], df[df['am'] == 1]['mpg'])\n",
    "#гипотеза о нормальности распределений отвергается"
   ]
  },
  {
   "cell_type": "code",
   "execution_count": null,
   "id": "26d104f6",
   "metadata": {},
   "outputs": [],
   "source": [
    "# H0: расход топлива не зависит от типа коробки передач\n",
    "# H1: расход топлива зависит от типа коробки передач"
   ]
  },
  {
   "cell_type": "code",
   "execution_count": null,
   "id": "3d8d2db2",
   "metadata": {
    "id": "G7zm74eAMVkN"
   },
   "outputs": [],
   "source": [
    "def crit(df_B, df_A):\n",
    "    alpha = 0.05\n",
    "    stat, pvalue_tcrit = stats.ttest_ind(df_B, df_A) #t-критерий Стьюдентa\n",
    "    mannwhitneyu_stat, pvalue_mann = stats.mannwhitneyu(df_B, df_A) #Критерий Манна-Уитни\n",
    "    return pvalue_tcrit, pvalue_mann\n",
    "\n",
    "pval = crit(df[df['am'] == 0]['mpg'], df[df['am'] == 1]['mpg'])\n",
    "pval\n",
    "#нулевая гипотеза отвергается -> расход топлива зависит от типа коробки передач"
   ]
  },
  {
   "cell_type": "markdown",
   "id": "a913362e",
   "metadata": {
    "id": "kCLFYqFzMVkN"
   },
   "source": [
    "### vs, am"
   ]
  },
  {
   "cell_type": "code",
   "execution_count": null,
   "id": "375a5f52",
   "metadata": {
    "id": "c_kuNAaZMVkO"
   },
   "outputs": [],
   "source": [
    "contingency_table = pd.crosstab(df['vs'], df['am'])\n",
    "contingency_table"
   ]
  },
  {
   "cell_type": "code",
   "execution_count": null,
   "id": "d88d1d2b",
   "metadata": {
    "id": "7RS1EAkpMSSr"
   },
   "outputs": [],
   "source": [
    "contingency_table.plot(kind='bar')"
   ]
  },
  {
   "cell_type": "code",
   "execution_count": null,
   "id": "4241df5d",
   "metadata": {},
   "outputs": [],
   "source": [
    "(contingency_table.T / contingency_table.sum(axis=1)).plot(kind='bar')"
   ]
  },
  {
   "cell_type": "code",
   "execution_count": null,
   "id": "7d184bfe",
   "metadata": {},
   "outputs": [],
   "source": [
    "# H0: тип передачи и тип двигателя независимы друг от друга\n",
    "# H1: тип передачи и тип двигателя зависимы друг от друга\n",
    "\n",
    "from scipy.stats import chi2_contingency\n",
    "chi, pvalue, df_, expected = chi2_contingency(contingency_table.values, correction=False) #критерий Пирсона\n",
    "#нулевая гипотеза не отвергается"
   ]
  },
  {
   "cell_type": "code",
   "execution_count": null,
   "id": "22ca8126",
   "metadata": {},
   "outputs": [],
   "source": [
    "#через нормальное распределение\n",
    "n = 32\n",
    "c = 7\n",
    "b = 6\n",
    "z_obs = (b-c)/np.sqrt(b+c - (b-c)**2/n)\n",
    "pval = 2*(1-stats.norm.cdf(z_obs))\n",
    "pval"
   ]
  }
 ],
 "metadata": {
  "kernelspec": {
   "display_name": "Python 3 (ipykernel)",
   "language": "python",
   "name": "python3"
  },
  "language_info": {
   "codemirror_mode": {
    "name": "ipython",
    "version": 3
   },
   "file_extension": ".py",
   "mimetype": "text/x-python",
   "name": "python",
   "nbconvert_exporter": "python",
   "pygments_lexer": "ipython3",
   "version": "3.12.5"
  },
  "toc": {
   "base_numbering": 1,
   "nav_menu": {},
   "number_sections": false,
   "sideBar": true,
   "skip_h1_title": false,
   "title_cell": "Table of Contents",
   "title_sidebar": "Contents",
   "toc_cell": true,
   "toc_position": {
    "height": "calc(100% - 180px)",
    "left": "10px",
    "top": "150px",
    "width": "190.188px"
   },
   "toc_section_display": true,
   "toc_window_display": true
  }
 },
 "nbformat": 4,
 "nbformat_minor": 5
}
